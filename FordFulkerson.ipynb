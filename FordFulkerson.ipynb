{
 "cells": [
  {
   "cell_type": "code",
   "execution_count": 76,
   "metadata": {
    "collapsed": false,
    "deletable": true,
    "editable": true
   },
   "outputs": [],
   "source": [
    "G = \\\n",
    "[\n",
    "    [None, 2, 1, None],\n",
    "    [2, None, 1, 1],\n",
    "    [1, 1, None, 4],\n",
    "    [None, 1, 4, None]\n",
    "]"
   ]
  },
  {
   "cell_type": "code",
   "execution_count": 77,
   "metadata": {
    "collapsed": false,
    "deletable": true,
    "editable": true
   },
   "outputs": [],
   "source": [
    "class BFS:\n",
    "    def __init__(self, G):\n",
    "        self.was_in = []\n",
    "        self.G = G\n",
    "        \n",
    "    def visit(self, v):\n",
    "        self.was_in += [v]\n",
    "        for i in range(len(self.G[v])):\n",
    "            if self.G[v][i] is not None and i not in self.was_in:\n",
    "                self.queue += [i]\n",
    "                yield(v, i)\n",
    "                \n",
    "    def start(self, v):\n",
    "        self.queue = [v]\n",
    "        while len(self.queue) > 0:\n",
    "            v = self.queue[0]\n",
    "            self.queue = self.queue[1:]\n",
    "            if v not in self.was_in:\n",
    "                yield from self.visit(v)\n",
    "            "
   ]
  },
  {
   "cell_type": "code",
   "execution_count": 78,
   "metadata": {
    "collapsed": false,
    "deletable": true,
    "editable": true
   },
   "outputs": [
    {
     "name": "stdout",
     "output_type": "stream",
     "text": [
      "0 1\n",
      "0 2\n",
      "1 2\n",
      "1 3\n",
      "2 3\n"
     ]
    }
   ],
   "source": [
    "for f,t in BFS(G).start(0):\n",
    "    print(f, t)"
   ]
  },
  {
   "cell_type": "code",
   "execution_count": 41,
   "metadata": {
    "collapsed": true,
    "deletable": true,
    "editable": true
   },
   "outputs": [],
   "source": [
    "class FindPaths(BFS):\n",
    "    def __init__(self, G):\n",
    "        super().__init__(G)\n",
    "        self.edges = [[] for _ in range(len(self.G))]\n",
    "        \n",
    "    def start(self, v, e):\n",
    "        self.edges[v] =[[]]\n",
    "        for f, t in super().start(v):\n",
    "            for edge in self.edges[f]:\n",
    "                if t not in edge:\n",
    "                    self.edges[t] += [edge + [f]]\n",
    "            for edge in self.edges[t]:\n",
    "                if f not in edge:\n",
    "                    self.edges[f] += [edge + [t]]\n",
    "        return [edge + [e] for edge in self.edges[e]]"
   ]
  },
  {
   "cell_type": "code",
   "execution_count": 42,
   "metadata": {
    "collapsed": false,
    "deletable": true,
    "editable": true
   },
   "outputs": [
    {
     "name": "stdout",
     "output_type": "stream",
     "text": [
      "[0, 1, 3]\n",
      "[0, 2, 1, 3]\n",
      "[0, 2, 3]\n",
      "[0, 1, 2, 3]\n"
     ]
    }
   ],
   "source": [
    "for edge in FindPaths(G).start(0, 3):\n",
    "    print(edge)"
   ]
  },
  {
   "cell_type": "code",
   "execution_count": 53,
   "metadata": {
    "collapsed": true,
    "deletable": true,
    "editable": true
   },
   "outputs": [],
   "source": [
    "def zeroes_like(G):\n",
    "    return [[0 for _ in range(len(G[0]))] for _ in range(len(G))]\n",
    "\n",
    "def vertice_pairs(edge):\n",
    "    return zip(edge, edge[1:])\n",
    "\n",
    "class FordFulkenson(FindPaths):\n",
    "    def __init__(self, G):\n",
    "        super().__init__(G)\n",
    "        self.flows = zeroes_like(G)\n",
    "        \n",
    "    def path_increase(self, edge):\n",
    "        return min([self.G[e][n] - self.flows[e][n] for e, n in vertice_pairs(edge)])\n",
    "        \n",
    "    def start(self, v, e):\n",
    "        for edge in super().start(v, e):\n",
    "            increase = self.path_increase(edge)\n",
    "            print(edge, increase)\n",
    "            if increase > 0:\n",
    "                for f, t in vertice_pairs(edge):\n",
    "                        self.flows[f][t] += increase\n",
    "        print(self.flows)\n",
    "        return sum([row[e] for row in self.flows])"
   ]
  },
  {
   "cell_type": "code",
   "execution_count": 54,
   "metadata": {
    "collapsed": false,
    "deletable": true,
    "editable": true
   },
   "outputs": [
    {
     "name": "stdout",
     "output_type": "stream",
     "text": [
      "[0, 1, 3] 1\n",
      "[0, 2, 1, 3] 0\n",
      "[0, 2, 3] 1\n",
      "[0, 1, 2, 3] 1\n",
      "[[0, 2, 1, 0], [0, 0, 1, 1], [0, 0, 0, 2], [0, 0, 0, 0]]\n"
     ]
    },
    {
     "data": {
      "text/plain": [
       "3"
      ]
     },
     "execution_count": 54,
     "metadata": {},
     "output_type": "execute_result"
    }
   ],
   "source": [
    "FordFulkenson(G).start(0, 3)"
   ]
  },
  {
   "cell_type": "code",
   "execution_count": 109,
   "metadata": {
    "collapsed": false,
    "deletable": true,
    "editable": true
   },
   "outputs": [],
   "source": [
    "def deep_dup(G):\n",
    "    return [[i or 0 for i in row] for row in G]\n",
    "\n",
    "class RealFordFulkenson:\n",
    "    def __init__(self, G):\n",
    "        self.G = G\n",
    "        self.flows = zeroes_like(G)\n",
    "    \n",
    "    def potential_increase(self, e, n):\n",
    "        return self.G[e][n] - self.flows[e][n]\n",
    "        \n",
    "    def path_increase(self, edge):\n",
    "        return min([self.potential_increase(e, n) for e, n in vertice_pairs(edge)])\n",
    "    \n",
    "    def recover_path(self, f):\n",
    "        p = []\n",
    "        while f is not None:\n",
    "            p = [f] + p\n",
    "            f = self.previous[f]\n",
    "        return p\n",
    "    \n",
    "    def bfs(self, v):\n",
    "        self.was_in = []\n",
    "        self.previous = [None for _ in range(len(self.G[0]))]\n",
    "        self.queue = [v]\n",
    "        while len(self.queue) > 0:\n",
    "            v = self.queue[0]\n",
    "            self.queue = self.queue[1:]\n",
    "            if v not in self.was_in:\n",
    "                    self.visit(v)\n",
    "                \n",
    "    def visit(self, v):\n",
    "        self.was_in += [v]\n",
    "        for i in range(len(self.G[v])):\n",
    "            if self.G[v][i] is not None and i not in self.was_in and self.potential_increase(v, i) > 0 and self.previous[i] is None:\n",
    "                self.queue += [i]\n",
    "                self.previous[i] = v\n",
    "    \n",
    "    def start(self, v, e):\n",
    "        max_flow = 0\n",
    "        while True:\n",
    "            self.bfs(v)\n",
    "            if self.previous[e] is None:\n",
    "                break\n",
    "            \n",
    "            edge = self.recover_path(e)\n",
    "            increase = self.path_increase(edge)\n",
    "            if increase == 0:\n",
    "                continue\n",
    "            print(edge, increase)\n",
    "            max_flow += increase\n",
    "            for x, y in vertice_pairs(edge):\n",
    "                self.flows[x][y] += increase\n",
    "                self.flows[y][x] -= increase\n",
    "\n",
    "                \n",
    "        print(self.flows)\n",
    "        return max_flow"
   ]
  },
  {
   "cell_type": "code",
   "execution_count": 111,
   "metadata": {
    "collapsed": false,
    "deletable": true,
    "editable": true,
    "scrolled": true
   },
   "outputs": [
    {
     "name": "stdout",
     "output_type": "stream",
     "text": [
      "[0, 1, 3] 1\n",
      "[0, 2, 3] 1\n",
      "[0, 1, 2, 3] 1\n",
      "[[0, 2, 1, 0], [-2, 0, 1, 1], [-1, -1, 0, 2], [0, -1, -2, 0]]\n",
      "[0, 1, 3] 1\n",
      "[0, 2, 1, 3] 0\n",
      "[0, 2, 3] 1\n",
      "[0, 1, 2, 3] 1\n",
      "[[0, 2, 1, 0], [0, 0, 1, 1], [0, 0, 0, 2], [0, 0, 0, 0]]\n"
     ]
    },
    {
     "data": {
      "text/plain": [
       "(3, 3)"
      ]
     },
     "execution_count": 111,
     "metadata": {},
     "output_type": "execute_result"
    }
   ],
   "source": [
    "f, t = [0, 3]\n",
    "RealFordFulkenson(G).start(f, t), FordFulkenson(G).start(f, t)"
   ]
  },
  {
   "cell_type": "code",
   "execution_count": null,
   "metadata": {
    "collapsed": true
   },
   "outputs": [],
   "source": []
  }
 ],
 "metadata": {
  "kernelspec": {
   "display_name": "Python 3",
   "language": "python",
   "name": "python3"
  },
  "language_info": {
   "codemirror_mode": {
    "name": "ipython",
    "version": 3
   },
   "file_extension": ".py",
   "mimetype": "text/x-python",
   "name": "python",
   "nbconvert_exporter": "python",
   "pygments_lexer": "ipython3",
   "version": "3.5.2"
  }
 },
 "nbformat": 4,
 "nbformat_minor": 2
}
